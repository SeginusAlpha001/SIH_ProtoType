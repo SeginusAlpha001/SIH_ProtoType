{
 "cells": [
  {
   "cell_type": "code",
   "execution_count": 2,
   "id": "f5475b66",
   "metadata": {},
   "outputs": [],
   "source": [
    "import pandas as pd\n",
    "import numpy as np\n",
    "import matplotlib.pyplot as plt \n",
    "from sklearn.model_selection import train_test_split\n",
    "import seaborn as sns\n",
    "from sklearn.preprocessing import StandardScaler\n",
    "from sklearn.metrics import mean_squared_error, r2_score\n",
    "from xgboost import XGBRegressor"
   ]
  },
  {
   "cell_type": "markdown",
   "id": "ba9ead2d",
   "metadata": {},
   "source": [
    "### Load Data"
   ]
  },
  {
   "cell_type": "code",
   "execution_count": 3,
   "id": "bcf5f227",
   "metadata": {},
   "outputs": [
    {
     "data": {
      "text/html": [
       "<div>\n",
       "<style scoped>\n",
       "    .dataframe tbody tr th:only-of-type {\n",
       "        vertical-align: middle;\n",
       "    }\n",
       "\n",
       "    .dataframe tbody tr th {\n",
       "        vertical-align: top;\n",
       "    }\n",
       "\n",
       "    .dataframe thead th {\n",
       "        text-align: right;\n",
       "    }\n",
       "</style>\n",
       "<table border=\"1\" class=\"dataframe\">\n",
       "  <thead>\n",
       "    <tr style=\"text-align: right;\">\n",
       "      <th></th>\n",
       "      <th>beneficiary_id</th>\n",
       "      <th>loan_amount</th>\n",
       "      <th>tenure</th>\n",
       "      <th>repayments_on_time_ratio</th>\n",
       "      <th>num_past_loans</th>\n",
       "      <th>outstanding_amount</th>\n",
       "      <th>avg_monthly_kwh</th>\n",
       "      <th>mobile_recharge_avg</th>\n",
       "      <th>utility_bill_on_time_ratio</th>\n",
       "      <th>business_sector</th>\n",
       "      <th>default</th>\n",
       "      <th>CBSC</th>\n",
       "    </tr>\n",
       "  </thead>\n",
       "  <tbody>\n",
       "    <tr>\n",
       "      <th>0</th>\n",
       "      <td>B1</td>\n",
       "      <td>20795</td>\n",
       "      <td>24</td>\n",
       "      <td>0.86</td>\n",
       "      <td>2</td>\n",
       "      <td>19894</td>\n",
       "      <td>239</td>\n",
       "      <td>275</td>\n",
       "      <td>0.48</td>\n",
       "      <td>transport</td>\n",
       "      <td>0</td>\n",
       "      <td>69.118946</td>\n",
       "    </tr>\n",
       "    <tr>\n",
       "      <th>1</th>\n",
       "      <td>B2</td>\n",
       "      <td>5860</td>\n",
       "      <td>36</td>\n",
       "      <td>0.90</td>\n",
       "      <td>5</td>\n",
       "      <td>202</td>\n",
       "      <td>88</td>\n",
       "      <td>121</td>\n",
       "      <td>0.71</td>\n",
       "      <td>services</td>\n",
       "      <td>0</td>\n",
       "      <td>81.426943</td>\n",
       "    </tr>\n",
       "    <tr>\n",
       "      <th>2</th>\n",
       "      <td>B3</td>\n",
       "      <td>43158</td>\n",
       "      <td>36</td>\n",
       "      <td>0.80</td>\n",
       "      <td>0</td>\n",
       "      <td>11447</td>\n",
       "      <td>178</td>\n",
       "      <td>337</td>\n",
       "      <td>0.93</td>\n",
       "      <td>transport</td>\n",
       "      <td>1</td>\n",
       "      <td>89.368066</td>\n",
       "    </tr>\n",
       "    <tr>\n",
       "      <th>3</th>\n",
       "      <td>B4</td>\n",
       "      <td>49732</td>\n",
       "      <td>12</td>\n",
       "      <td>0.96</td>\n",
       "      <td>3</td>\n",
       "      <td>12688</td>\n",
       "      <td>226</td>\n",
       "      <td>257</td>\n",
       "      <td>0.84</td>\n",
       "      <td>retail</td>\n",
       "      <td>0</td>\n",
       "      <td>93.785495</td>\n",
       "    </tr>\n",
       "    <tr>\n",
       "      <th>4</th>\n",
       "      <td>B5</td>\n",
       "      <td>16284</td>\n",
       "      <td>36</td>\n",
       "      <td>0.83</td>\n",
       "      <td>4</td>\n",
       "      <td>4389</td>\n",
       "      <td>127</td>\n",
       "      <td>137</td>\n",
       "      <td>0.82</td>\n",
       "      <td>manufacturing</td>\n",
       "      <td>0</td>\n",
       "      <td>78.481362</td>\n",
       "    </tr>\n",
       "  </tbody>\n",
       "</table>\n",
       "</div>"
      ],
      "text/plain": [
       "  beneficiary_id  loan_amount  tenure  repayments_on_time_ratio  \\\n",
       "0             B1        20795      24                      0.86   \n",
       "1             B2         5860      36                      0.90   \n",
       "2             B3        43158      36                      0.80   \n",
       "3             B4        49732      12                      0.96   \n",
       "4             B5        16284      36                      0.83   \n",
       "\n",
       "   num_past_loans  outstanding_amount  avg_monthly_kwh  mobile_recharge_avg  \\\n",
       "0               2               19894              239                  275   \n",
       "1               5                 202               88                  121   \n",
       "2               0               11447              178                  337   \n",
       "3               3               12688              226                  257   \n",
       "4               4                4389              127                  137   \n",
       "\n",
       "   utility_bill_on_time_ratio business_sector  default       CBSC  \n",
       "0                        0.48       transport        0  69.118946  \n",
       "1                        0.71        services        0  81.426943  \n",
       "2                        0.93       transport        1  89.368066  \n",
       "3                        0.84          retail        0  93.785495  \n",
       "4                        0.82   manufacturing        0  78.481362  "
      ]
     },
     "execution_count": 3,
     "metadata": {},
     "output_type": "execute_result"
    }
   ],
   "source": [
    "df=pd.read_csv(r\"C:\\Users\\rasik\\Downloads\\beneficiary_credit_data_with_cbsc.csv\")\n",
    "df.head()"
   ]
  },
  {
   "cell_type": "markdown",
   "id": "04c027e0",
   "metadata": {},
   "source": [
    "### Explore Data"
   ]
  },
  {
   "cell_type": "code",
   "execution_count": 4,
   "id": "8e671d9b",
   "metadata": {},
   "outputs": [
    {
     "data": {
      "text/html": [
       "<div>\n",
       "<style scoped>\n",
       "    .dataframe tbody tr th:only-of-type {\n",
       "        vertical-align: middle;\n",
       "    }\n",
       "\n",
       "    .dataframe tbody tr th {\n",
       "        vertical-align: top;\n",
       "    }\n",
       "\n",
       "    .dataframe thead th {\n",
       "        text-align: right;\n",
       "    }\n",
       "</style>\n",
       "<table border=\"1\" class=\"dataframe\">\n",
       "  <thead>\n",
       "    <tr style=\"text-align: right;\">\n",
       "      <th></th>\n",
       "      <th>loan_amount</th>\n",
       "      <th>tenure</th>\n",
       "      <th>repayments_on_time_ratio</th>\n",
       "      <th>num_past_loans</th>\n",
       "      <th>outstanding_amount</th>\n",
       "      <th>avg_monthly_kwh</th>\n",
       "      <th>mobile_recharge_avg</th>\n",
       "      <th>utility_bill_on_time_ratio</th>\n",
       "      <th>default</th>\n",
       "      <th>CBSC</th>\n",
       "    </tr>\n",
       "  </thead>\n",
       "  <tbody>\n",
       "    <tr>\n",
       "      <th>count</th>\n",
       "      <td>50.000000</td>\n",
       "      <td>50.000000</td>\n",
       "      <td>50.000000</td>\n",
       "      <td>50.0000</td>\n",
       "      <td>50.00000</td>\n",
       "      <td>50.000000</td>\n",
       "      <td>50.000000</td>\n",
       "      <td>50.000000</td>\n",
       "      <td>50.000000</td>\n",
       "      <td>50.000000</td>\n",
       "    </tr>\n",
       "    <tr>\n",
       "      <th>mean</th>\n",
       "      <td>25013.020000</td>\n",
       "      <td>23.280000</td>\n",
       "      <td>0.763200</td>\n",
       "      <td>2.2400</td>\n",
       "      <td>10049.56000</td>\n",
       "      <td>203.980000</td>\n",
       "      <td>252.220000</td>\n",
       "      <td>0.704600</td>\n",
       "      <td>0.460000</td>\n",
       "      <td>73.531033</td>\n",
       "    </tr>\n",
       "    <tr>\n",
       "      <th>std</th>\n",
       "      <td>14979.559107</td>\n",
       "      <td>9.516988</td>\n",
       "      <td>0.135864</td>\n",
       "      <td>1.8357</td>\n",
       "      <td>6025.37712</td>\n",
       "      <td>52.118581</td>\n",
       "      <td>93.586867</td>\n",
       "      <td>0.165914</td>\n",
       "      <td>0.503457</td>\n",
       "      <td>19.046211</td>\n",
       "    </tr>\n",
       "    <tr>\n",
       "      <th>min</th>\n",
       "      <td>5189.000000</td>\n",
       "      <td>12.000000</td>\n",
       "      <td>0.520000</td>\n",
       "      <td>0.0000</td>\n",
       "      <td>197.00000</td>\n",
       "      <td>88.000000</td>\n",
       "      <td>103.000000</td>\n",
       "      <td>0.420000</td>\n",
       "      <td>0.000000</td>\n",
       "      <td>0.000000</td>\n",
       "    </tr>\n",
       "    <tr>\n",
       "      <th>25%</th>\n",
       "      <td>11297.750000</td>\n",
       "      <td>12.000000</td>\n",
       "      <td>0.642500</td>\n",
       "      <td>0.2500</td>\n",
       "      <td>4907.75000</td>\n",
       "      <td>173.500000</td>\n",
       "      <td>154.000000</td>\n",
       "      <td>0.582500</td>\n",
       "      <td>0.000000</td>\n",
       "      <td>67.463383</td>\n",
       "    </tr>\n",
       "    <tr>\n",
       "      <th>50%</th>\n",
       "      <td>22999.500000</td>\n",
       "      <td>24.000000</td>\n",
       "      <td>0.780000</td>\n",
       "      <td>2.0000</td>\n",
       "      <td>10225.00000</td>\n",
       "      <td>212.000000</td>\n",
       "      <td>258.500000</td>\n",
       "      <td>0.715000</td>\n",
       "      <td>0.000000</td>\n",
       "      <td>76.574034</td>\n",
       "    </tr>\n",
       "    <tr>\n",
       "      <th>75%</th>\n",
       "      <td>39717.500000</td>\n",
       "      <td>36.000000</td>\n",
       "      <td>0.860000</td>\n",
       "      <td>4.0000</td>\n",
       "      <td>14563.25000</td>\n",
       "      <td>239.750000</td>\n",
       "      <td>331.250000</td>\n",
       "      <td>0.840000</td>\n",
       "      <td>1.000000</td>\n",
       "      <td>85.789496</td>\n",
       "    </tr>\n",
       "    <tr>\n",
       "      <th>max</th>\n",
       "      <td>49732.000000</td>\n",
       "      <td>36.000000</td>\n",
       "      <td>0.990000</td>\n",
       "      <td>5.0000</td>\n",
       "      <td>19894.00000</td>\n",
       "      <td>296.000000</td>\n",
       "      <td>387.000000</td>\n",
       "      <td>0.990000</td>\n",
       "      <td>1.000000</td>\n",
       "      <td>100.000000</td>\n",
       "    </tr>\n",
       "  </tbody>\n",
       "</table>\n",
       "</div>"
      ],
      "text/plain": [
       "        loan_amount     tenure  repayments_on_time_ratio  num_past_loans  \\\n",
       "count     50.000000  50.000000                 50.000000         50.0000   \n",
       "mean   25013.020000  23.280000                  0.763200          2.2400   \n",
       "std    14979.559107   9.516988                  0.135864          1.8357   \n",
       "min     5189.000000  12.000000                  0.520000          0.0000   \n",
       "25%    11297.750000  12.000000                  0.642500          0.2500   \n",
       "50%    22999.500000  24.000000                  0.780000          2.0000   \n",
       "75%    39717.500000  36.000000                  0.860000          4.0000   \n",
       "max    49732.000000  36.000000                  0.990000          5.0000   \n",
       "\n",
       "       outstanding_amount  avg_monthly_kwh  mobile_recharge_avg  \\\n",
       "count            50.00000        50.000000            50.000000   \n",
       "mean          10049.56000       203.980000           252.220000   \n",
       "std            6025.37712        52.118581            93.586867   \n",
       "min             197.00000        88.000000           103.000000   \n",
       "25%            4907.75000       173.500000           154.000000   \n",
       "50%           10225.00000       212.000000           258.500000   \n",
       "75%           14563.25000       239.750000           331.250000   \n",
       "max           19894.00000       296.000000           387.000000   \n",
       "\n",
       "       utility_bill_on_time_ratio    default        CBSC  \n",
       "count                   50.000000  50.000000   50.000000  \n",
       "mean                     0.704600   0.460000   73.531033  \n",
       "std                      0.165914   0.503457   19.046211  \n",
       "min                      0.420000   0.000000    0.000000  \n",
       "25%                      0.582500   0.000000   67.463383  \n",
       "50%                      0.715000   0.000000   76.574034  \n",
       "75%                      0.840000   1.000000   85.789496  \n",
       "max                      0.990000   1.000000  100.000000  "
      ]
     },
     "execution_count": 4,
     "metadata": {},
     "output_type": "execute_result"
    }
   ],
   "source": [
    "df.describe()"
   ]
  },
  {
   "cell_type": "code",
   "execution_count": 5,
   "id": "a764757c",
   "metadata": {},
   "outputs": [
    {
     "name": "stdout",
     "output_type": "stream",
     "text": [
      "<class 'pandas.core.frame.DataFrame'>\n",
      "RangeIndex: 50 entries, 0 to 49\n",
      "Data columns (total 12 columns):\n",
      " #   Column                      Non-Null Count  Dtype  \n",
      "---  ------                      --------------  -----  \n",
      " 0   beneficiary_id              50 non-null     object \n",
      " 1   loan_amount                 50 non-null     int64  \n",
      " 2   tenure                      50 non-null     int64  \n",
      " 3   repayments_on_time_ratio    50 non-null     float64\n",
      " 4   num_past_loans              50 non-null     int64  \n",
      " 5   outstanding_amount          50 non-null     int64  \n",
      " 6   avg_monthly_kwh             50 non-null     int64  \n",
      " 7   mobile_recharge_avg         50 non-null     int64  \n",
      " 8   utility_bill_on_time_ratio  50 non-null     float64\n",
      " 9   business_sector             50 non-null     object \n",
      " 10  default                     50 non-null     int64  \n",
      " 11  CBSC                        50 non-null     float64\n",
      "dtypes: float64(3), int64(7), object(2)\n",
      "memory usage: 4.8+ KB\n"
     ]
    }
   ],
   "source": [
    "df.info()"
   ]
  },
  {
   "cell_type": "markdown",
   "id": "d316fc90",
   "metadata": {},
   "source": [
    "### Dummy Encoding"
   ]
  },
  {
   "cell_type": "code",
   "execution_count": 6,
   "id": "b7a9393a",
   "metadata": {},
   "outputs": [
    {
     "data": {
      "text/html": [
       "<div>\n",
       "<style scoped>\n",
       "    .dataframe tbody tr th:only-of-type {\n",
       "        vertical-align: middle;\n",
       "    }\n",
       "\n",
       "    .dataframe tbody tr th {\n",
       "        vertical-align: top;\n",
       "    }\n",
       "\n",
       "    .dataframe thead th {\n",
       "        text-align: right;\n",
       "    }\n",
       "</style>\n",
       "<table border=\"1\" class=\"dataframe\">\n",
       "  <thead>\n",
       "    <tr style=\"text-align: right;\">\n",
       "      <th></th>\n",
       "      <th>loan_amount</th>\n",
       "      <th>tenure</th>\n",
       "      <th>repayments_on_time_ratio</th>\n",
       "      <th>num_past_loans</th>\n",
       "      <th>outstanding_amount</th>\n",
       "      <th>avg_monthly_kwh</th>\n",
       "      <th>mobile_recharge_avg</th>\n",
       "      <th>utility_bill_on_time_ratio</th>\n",
       "      <th>default</th>\n",
       "      <th>CBSC</th>\n",
       "      <th>business_sector_manufacturing</th>\n",
       "      <th>business_sector_retail</th>\n",
       "      <th>business_sector_services</th>\n",
       "      <th>business_sector_transport</th>\n",
       "    </tr>\n",
       "  </thead>\n",
       "  <tbody>\n",
       "    <tr>\n",
       "      <th>0</th>\n",
       "      <td>20795</td>\n",
       "      <td>24</td>\n",
       "      <td>0.86</td>\n",
       "      <td>2</td>\n",
       "      <td>19894</td>\n",
       "      <td>239</td>\n",
       "      <td>275</td>\n",
       "      <td>0.48</td>\n",
       "      <td>0</td>\n",
       "      <td>69.118946</td>\n",
       "      <td>False</td>\n",
       "      <td>False</td>\n",
       "      <td>False</td>\n",
       "      <td>True</td>\n",
       "    </tr>\n",
       "    <tr>\n",
       "      <th>1</th>\n",
       "      <td>5860</td>\n",
       "      <td>36</td>\n",
       "      <td>0.90</td>\n",
       "      <td>5</td>\n",
       "      <td>202</td>\n",
       "      <td>88</td>\n",
       "      <td>121</td>\n",
       "      <td>0.71</td>\n",
       "      <td>0</td>\n",
       "      <td>81.426943</td>\n",
       "      <td>False</td>\n",
       "      <td>False</td>\n",
       "      <td>True</td>\n",
       "      <td>False</td>\n",
       "    </tr>\n",
       "    <tr>\n",
       "      <th>2</th>\n",
       "      <td>43158</td>\n",
       "      <td>36</td>\n",
       "      <td>0.80</td>\n",
       "      <td>0</td>\n",
       "      <td>11447</td>\n",
       "      <td>178</td>\n",
       "      <td>337</td>\n",
       "      <td>0.93</td>\n",
       "      <td>1</td>\n",
       "      <td>89.368066</td>\n",
       "      <td>False</td>\n",
       "      <td>False</td>\n",
       "      <td>False</td>\n",
       "      <td>True</td>\n",
       "    </tr>\n",
       "    <tr>\n",
       "      <th>3</th>\n",
       "      <td>49732</td>\n",
       "      <td>12</td>\n",
       "      <td>0.96</td>\n",
       "      <td>3</td>\n",
       "      <td>12688</td>\n",
       "      <td>226</td>\n",
       "      <td>257</td>\n",
       "      <td>0.84</td>\n",
       "      <td>0</td>\n",
       "      <td>93.785495</td>\n",
       "      <td>False</td>\n",
       "      <td>True</td>\n",
       "      <td>False</td>\n",
       "      <td>False</td>\n",
       "    </tr>\n",
       "    <tr>\n",
       "      <th>4</th>\n",
       "      <td>16284</td>\n",
       "      <td>36</td>\n",
       "      <td>0.83</td>\n",
       "      <td>4</td>\n",
       "      <td>4389</td>\n",
       "      <td>127</td>\n",
       "      <td>137</td>\n",
       "      <td>0.82</td>\n",
       "      <td>0</td>\n",
       "      <td>78.481362</td>\n",
       "      <td>True</td>\n",
       "      <td>False</td>\n",
       "      <td>False</td>\n",
       "      <td>False</td>\n",
       "    </tr>\n",
       "  </tbody>\n",
       "</table>\n",
       "</div>"
      ],
      "text/plain": [
       "   loan_amount  tenure  repayments_on_time_ratio  num_past_loans  \\\n",
       "0        20795      24                      0.86               2   \n",
       "1         5860      36                      0.90               5   \n",
       "2        43158      36                      0.80               0   \n",
       "3        49732      12                      0.96               3   \n",
       "4        16284      36                      0.83               4   \n",
       "\n",
       "   outstanding_amount  avg_monthly_kwh  mobile_recharge_avg  \\\n",
       "0               19894              239                  275   \n",
       "1                 202               88                  121   \n",
       "2               11447              178                  337   \n",
       "3               12688              226                  257   \n",
       "4                4389              127                  137   \n",
       "\n",
       "   utility_bill_on_time_ratio  default       CBSC  \\\n",
       "0                        0.48        0  69.118946   \n",
       "1                        0.71        0  81.426943   \n",
       "2                        0.93        1  89.368066   \n",
       "3                        0.84        0  93.785495   \n",
       "4                        0.82        0  78.481362   \n",
       "\n",
       "   business_sector_manufacturing  business_sector_retail  \\\n",
       "0                          False                   False   \n",
       "1                          False                   False   \n",
       "2                          False                   False   \n",
       "3                          False                    True   \n",
       "4                           True                   False   \n",
       "\n",
       "   business_sector_services  business_sector_transport  \n",
       "0                     False                       True  \n",
       "1                      True                      False  \n",
       "2                     False                       True  \n",
       "3                     False                      False  \n",
       "4                     False                      False  "
      ]
     },
     "execution_count": 6,
     "metadata": {},
     "output_type": "execute_result"
    }
   ],
   "source": [
    "df.drop(columns=[\"beneficiary_id\"], inplace=True,axis=1)\n",
    "df=pd.get_dummies(df,drop_first=True)\n",
    "df.head()"
   ]
  },
  {
   "cell_type": "markdown",
   "id": "645f3894",
   "metadata": {},
   "source": [
    "### Data Analysis"
   ]
  },
  {
   "cell_type": "code",
   "execution_count": 7,
   "id": "d4ae792e",
   "metadata": {},
   "outputs": [
    {
     "data": {
      "text/plain": [
       "<Axes: >"
      ]
     },
     "execution_count": 7,
     "metadata": {},
     "output_type": "execute_result"
    },
    {
     "data": {
      "image/png": "[encoded data removed]",
      "text/plain": [
       "<Figure size 1200x1200 with 2 Axes>"
      ]
     },
     "metadata": {},
     "output_type": "display_data"
    }
   ],
   "source": [
    "plt.figure(figsize=(12,12))\n",
    "sns.heatmap(df.corr(), cmap=\"Paired\")"
   ]
  },
  {
   "cell_type": "markdown",
   "id": "6189c4bc",
   "metadata": {},
   "source": [
    "### Train-Test Split"
   ]
  },
  {
   "cell_type": "code",
   "execution_count": 8,
   "id": "9d2e1374",
   "metadata": {},
   "outputs": [],
   "source": [
    "X=df.drop(['CBSC'], axis=1)\n",
    "y=df.CBSC.values\n",
    "faetures_names=X.columns"
   ]
  },
  {
   "cell_type": "code",
   "execution_count": 9,
   "id": "e3c88dd2",
   "metadata": {},
   "outputs": [],
   "source": [
    "X_train, X_test, y_train, y_test= train_test_split(X,y, test_size=0.20)"
   ]
  },
  {
   "cell_type": "markdown",
   "id": "943d3aa9",
   "metadata": {},
   "source": [
    "### Feature Scaling"
   ]
  },
  {
   "cell_type": "code",
   "execution_count": 10,
   "id": "a2853bec",
   "metadata": {},
   "outputs": [],
   "source": [
    "sc=StandardScaler()\n",
    "X_train=sc.fit_transform(X_train)\n",
    "X_test=sc.transform(X_test)"
   ]
  },
  {
   "cell_type": "markdown",
   "id": "1a80055e",
   "metadata": {},
   "source": [
    "### Model building and testing"
   ]
  },
  {
   "cell_type": "code",
   "execution_count": 11,
   "id": "ee67a433",
   "metadata": {},
   "outputs": [
    {
     "name": "stdout",
     "output_type": "stream",
     "text": [
      "RMSE: 281.82499657531656\n",
      "R² Score: -0.636935213186308\n"
     ]
    }
   ],
   "source": [
    "# Initiating the classfier\n",
    "model_xgb=XGBRegressor(n_estimators=100, max_depth=4, learning_rate=0.1)\n",
    "# Passing the data to classifier\n",
    "model_xgb.fit(X_train, y_train)\n",
    "# predictions\n",
    "y_pred_xgb=model_xgb.predict(X_test)\n",
    "print(\"RMSE:\", mean_squared_error(y_test, y_pred_xgb))\n",
    "print(\"R² Score:\", r2_score(y_test, y_pred_xgb))"
   ]
  },
  {
   "cell_type": "code",
   "execution_count": 12,
   "id": "3c08d0e7",
   "metadata": {},
   "outputs": [
    {
     "name": "stdout",
     "output_type": "stream",
     "text": [
      "Predicted CBSC: 91.00744\n"
     ]
    }
   ],
   "source": [
    "test_record = {\n",
    "    \"beneficiary_id\": \"B31\",\n",
    "    \"loan_amount\": 35000,\n",
    "    \"tenure\": 18,\n",
    "    \"repayments_on_time_ratio\": 0.92,   \n",
    "    \"num_past_loans\": 1,\n",
    "    \"outstanding_amount\": 5000,\n",
    "    \"avg_monthly_kwh\": 180,             \n",
    "    \"mobile_recharge_avg\": 320,         \n",
    "    \"utility_bill_on_time_ratio\": 0.88, \n",
    "    \"business_sector\": \"retail\",\n",
    "    \"default\": 0,                       \n",
    "}\n",
    "test_df = pd.DataFrame([test_record])\n",
    "X_test_record = test_df.drop([\"beneficiary_id\"], axis=1)\n",
    "\n",
    "X_test_record=pd.get_dummies(X_test_record,drop_first=True)\n",
    "X_test_record = X_test_record.reindex(columns=X.columns, fill_value=0)\n",
    "# Apply same scaling\n",
    "test_scaled = sc.transform(X_test_record)\n",
    "\n",
    "# Predict CBSC\n",
    "predicted_cbsc = model_xgb.predict(test_scaled)\n",
    "print(\"Predicted CBSC:\", predicted_cbsc[0])"
   ]
  },
  {
   "cell_type": "markdown",
   "id": "c648ffa9",
   "metadata": {},
   "source": [
    "### Save Modals and Scaler"
   ]
  },
  {
   "cell_type": "code",
   "execution_count": 14,
   "id": "2abe0a7e",
   "metadata": {},
   "outputs": [
    {
     "data": {
      "text/plain": [
       "['feature_names.pkl']"
      ]
     },
     "execution_count": 14,
     "metadata": {},
     "output_type": "execute_result"
    }
   ],
   "source": [
    "import joblib\n",
    "\n",
    "# Save trained model\n",
    "joblib.dump(model_xgb, \"credit_model.pkl\")\n",
    "\n",
    "# Save the StandardScaler\n",
    "joblib.dump(sc, \"scaler.pkl\")\n",
    "\n",
    "# Save feature names (important for encoding test records)\n",
    "joblib.dump(X.columns, \"feature_names.pkl\")\n"
   ]
  },
  {
   "cell_type": "markdown",
   "id": "c360ffc1",
   "metadata": {},
   "source": [
    "- The model can be further improved by doing Feature Engineering and Hyper Parameter Optimization"
   ]
  }
 ],
 "metadata": {
  "kernelspec": {
   "display_name": "Python 3",
   "language": "python",
   "name": "python3"
  },
  "language_info": {
   "codemirror_mode": {
    "name": "ipython",
    "version": 3
   },
   "file_extension": ".py",
   "mimetype": "text/x-python",
   "name": "python",
   "nbconvert_exporter": "python",
   "pygments_lexer": "ipython3",
   "version": "3.10.11"
  }
 },
 "nbformat": 4,
 "nbformat_minor": 5
}
